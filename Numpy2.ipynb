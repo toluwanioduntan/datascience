{
 "cells": [
  {
   "cell_type": "code",
   "execution_count": 1,
   "id": "8b70ff08",
   "metadata": {},
   "outputs": [],
   "source": [
    "import numpy as np"
   ]
  },
  {
   "cell_type": "code",
   "execution_count": 2,
   "id": "67db04ac",
   "metadata": {},
   "outputs": [
    {
     "data": {
      "text/plain": [
       "array([[0.98309791, 0.5047282 , 0.68618217],\n",
       "       [0.74531977, 0.91104029, 0.62116199],\n",
       "       [0.52794958, 0.30304626, 0.17727991],\n",
       "       [0.58256516, 0.37531805, 0.04658635],\n",
       "       [0.684497  , 0.17738367, 0.49901649]])"
      ]
     },
     "execution_count": 2,
     "metadata": {},
     "output_type": "execute_result"
    }
   ],
   "source": [
    "np.random.seed()\n",
    "random_array=np.random.random((5,3))\n",
    "random_array\n",
    "##The only difference bwtewwn the random() \n",
    "# and random(7) is that the first allow the \n",
    "# program to give different values when you\n",
    "# run it but the other gives a static value of random figures."
   ]
  },
  {
   "cell_type": "code",
   "execution_count": 3,
   "id": "1efd7ac6",
   "metadata": {},
   "outputs": [
    {
     "data": {
      "text/plain": [
       "(5, 3)"
      ]
     },
     "execution_count": 3,
     "metadata": {},
     "output_type": "execute_result"
    }
   ],
   "source": [
    "random_array.shape"
   ]
  },
  {
   "cell_type": "code",
   "execution_count": 4,
   "id": "64bc5cf0",
   "metadata": {},
   "outputs": [
    {
     "data": {
      "text/plain": [
       "array([0.04658635, 0.17727991, 0.17738367, 0.30304626, 0.37531805,\n",
       "       0.49901649, 0.5047282 , 0.52794958, 0.58256516, 0.62116199,\n",
       "       0.684497  , 0.68618217, 0.74531977, 0.91104029, 0.98309791])"
      ]
     },
     "execution_count": 4,
     "metadata": {},
     "output_type": "execute_result"
    }
   ],
   "source": [
    "np.unique(random_array)"
   ]
  },
  {
   "cell_type": "code",
   "execution_count": 5,
   "id": "bbc70bc8",
   "metadata": {},
   "outputs": [
    {
     "data": {
      "text/plain": [
       "0.6861821711366481"
      ]
     },
     "execution_count": 5,
     "metadata": {},
     "output_type": "execute_result"
    }
   ],
   "source": [
    "random_array[0,2]"
   ]
  },
  {
   "cell_type": "markdown",
   "id": "e6f22069",
   "metadata": {},
   "source": [
    "## how to reshape numpy array"
   ]
  },
  {
   "cell_type": "code",
   "execution_count": 6,
   "id": "8c8038c8",
   "metadata": {},
   "outputs": [
    {
     "data": {
      "text/plain": [
       "array([20, 32, 23, 35, 28, 23, 18,  6, 19,  1, 39, 35,  7, 25, 17, 25, 27,\n",
       "       22, 32, 24, 21,  8, 32,  3, 19, 15,  4, 25,  7,  8,  3, 34, 21, 10,\n",
       "        4,  4, 15, 39, 23, 21])"
      ]
     },
     "execution_count": 6,
     "metadata": {},
     "output_type": "execute_result"
    }
   ],
   "source": [
    "np.random.randint(1,40, size=40)"
   ]
  },
  {
   "cell_type": "code",
   "execution_count": null,
   "id": "90859891",
   "metadata": {},
   "outputs": [],
   "source": []
  },
  {
   "cell_type": "code",
   "execution_count": null,
   "id": "68da6390",
   "metadata": {},
   "outputs": [],
   "source": []
  }
 ],
 "metadata": {
  "kernelspec": {
   "display_name": "Python 3",
   "language": "python",
   "name": "python3"
  },
  "language_info": {
   "codemirror_mode": {
    "name": "ipython",
    "version": 3
   },
   "file_extension": ".py",
   "mimetype": "text/x-python",
   "name": "python",
   "nbconvert_exporter": "python",
   "pygments_lexer": "ipython3",
   "version": "3.8.8"
  }
 },
 "nbformat": 4,
 "nbformat_minor": 5
}
